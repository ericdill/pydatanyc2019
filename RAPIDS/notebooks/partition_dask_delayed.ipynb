{
 "cells": [
  {
   "cell_type": "code",
   "execution_count": 1,
   "metadata": {},
   "outputs": [],
   "source": [
    "#import cudf\n",
    "#from dask_cuda import LocalCUDACluster\n",
    "import distributed\n",
    "#import dask_cudf\n",
    "import dask\n",
    "import dask.dataframe as dd\n",
    "import os"
   ]
  },
  {
   "cell_type": "code",
   "execution_count": 2,
   "metadata": {},
   "outputs": [
    {
     "data": {
      "text/plain": [
       "'/home/ericdill/miniconda/envs/dask/bin/python'"
      ]
     },
     "execution_count": 2,
     "metadata": {},
     "output_type": "execute_result"
    }
   ],
   "source": [
    "import sys\n",
    "sys.executable"
   ]
  },
  {
   "cell_type": "code",
   "execution_count": 3,
   "metadata": {},
   "outputs": [],
   "source": [
    "unpartitioned_dir = '/mnt/storage/anaconda-parsed-logs'\n",
    "output_dir = '/mnt/storage/anaconda-parsed-logs-partitioned-dask-delayed'"
   ]
  },
  {
   "cell_type": "code",
   "execution_count": 4,
   "metadata": {},
   "outputs": [],
   "source": [
    "def partition_file(input_file, output_file):\n",
    "    import dask.dataframe as dd\n",
    "    ddf = dd.read_parquet(input_file).repartition(partition_size='256MB')\n",
    "    ddf.to_parquet(output_file)"
   ]
  },
  {
   "cell_type": "code",
   "execution_count": 5,
   "metadata": {},
   "outputs": [
    {
     "name": "stdout",
     "output_type": "stream",
     "text": [
      "/mnt/storage/anaconda-parsed-logs-partitioned-dask-delayed\n"
     ]
    }
   ],
   "source": [
    "print(output_dir)"
   ]
  },
  {
   "cell_type": "code",
   "execution_count": null,
   "metadata": {},
   "outputs": [],
   "source": []
  },
  {
   "cell_type": "code",
   "execution_count": 6,
   "metadata": {},
   "outputs": [],
   "source": [
    "parquet_files = []\n",
    "for path, dirs, files in os.walk(unpartitioned_dir):\n",
    "    for f in files:\n",
    "        if f.endswith('.parquet'):\n",
    "            _, base = path.split(unpartitioned_dir)\n",
    "            input_file = os.path.join(path, f)\n",
    "            output_file = f'{output_dir}/{base}/{f}'\n",
    "            parquet_files.append((input_file, output_file))\n",
    "            #print(f'{input_file} -> {output_file}')\n",
    "            #print(f'reading from {input_file}. writing to {output_file}')\n",
    "            #partition_file(input_file, output_file)\n",
    "            #delayed_funcs.append(dask.delayed(partition_file)(input_file, output_file))\n",
    "    "
   ]
  },
  {
   "cell_type": "code",
   "execution_count": 18,
   "metadata": {},
   "outputs": [],
   "source": [
    "ddf = dd.read_parquet(f'{unpartitioned_dir}/2016/10')#.repartition(partition_size='256MB').to_parquet('tmp.parquet')"
   ]
  },
  {
   "cell_type": "code",
   "execution_count": 22,
   "metadata": {},
   "outputs": [
    {
     "data": {
      "text/plain": [
       "\u001b[0;31mSignature:\u001b[0m\n",
       "\u001b[0mddf\u001b[0m\u001b[0;34m.\u001b[0m\u001b[0mrepartition\u001b[0m\u001b[0;34m(\u001b[0m\u001b[0;34m\u001b[0m\n",
       "\u001b[0;34m\u001b[0m    \u001b[0mdivisions\u001b[0m\u001b[0;34m=\u001b[0m\u001b[0;32mNone\u001b[0m\u001b[0;34m,\u001b[0m\u001b[0;34m\u001b[0m\n",
       "\u001b[0;34m\u001b[0m    \u001b[0mnpartitions\u001b[0m\u001b[0;34m=\u001b[0m\u001b[0;32mNone\u001b[0m\u001b[0;34m,\u001b[0m\u001b[0;34m\u001b[0m\n",
       "\u001b[0;34m\u001b[0m    \u001b[0mpartition_size\u001b[0m\u001b[0;34m=\u001b[0m\u001b[0;32mNone\u001b[0m\u001b[0;34m,\u001b[0m\u001b[0;34m\u001b[0m\n",
       "\u001b[0;34m\u001b[0m    \u001b[0mfreq\u001b[0m\u001b[0;34m=\u001b[0m\u001b[0;32mNone\u001b[0m\u001b[0;34m,\u001b[0m\u001b[0;34m\u001b[0m\n",
       "\u001b[0;34m\u001b[0m    \u001b[0mforce\u001b[0m\u001b[0;34m=\u001b[0m\u001b[0;32mFalse\u001b[0m\u001b[0;34m,\u001b[0m\u001b[0;34m\u001b[0m\n",
       "\u001b[0;34m\u001b[0m\u001b[0;34m)\u001b[0m\u001b[0;34m\u001b[0m\u001b[0;34m\u001b[0m\u001b[0m\n",
       "\u001b[0;31mDocstring:\u001b[0m\n",
       "Repartition dataframe along new divisions\n",
       "\n",
       "Parameters\n",
       "----------\n",
       "divisions : list, optional\n",
       "    List of partitions to be used. Only used if npartitions and\n",
       "    partition_size isn't specified.\n",
       "npartitions : int, optional\n",
       "    Number of partitions of output. Only used if partition_size\n",
       "    isn't specified.\n",
       "partition_size: int or string, optional\n",
       "    Max number of bytes of memory for each partition. Use numbers or\n",
       "    strings like 5MB. If specified npartitions and divisions will be\n",
       "    ignored.\n",
       "\n",
       "    .. warning::\n",
       "\n",
       "       This keyword argument triggers computation to determine\n",
       "       the memory size of each partition, which may be expensive.\n",
       "\n",
       "freq : str, pd.Timedelta\n",
       "    A period on which to partition timeseries data like ``'7D'`` or\n",
       "    ``'12h'`` or ``pd.Timedelta(hours=12)``.  Assumes a datetime index.\n",
       "force : bool, default False\n",
       "    Allows the expansion of the existing divisions.\n",
       "    If False then the new divisions lower and upper bounds must be\n",
       "    the same as the old divisions.\n",
       "\n",
       "Notes\n",
       "-----\n",
       "Exactly one of `divisions`, `npartitions`, `partition_size`, or `freq`\n",
       "should be specified. A ``ValueError`` will be raised when that is\n",
       "not the case.\n",
       "\n",
       "Examples\n",
       "--------\n",
       ">>> df = df.repartition(npartitions=10)  # doctest: +SKIP\n",
       ">>> df = df.repartition(divisions=[0, 5, 10, 20])  # doctest: +SKIP\n",
       ">>> df = df.repartition(freq='7d')  # doctest: +SKIP\n",
       "\u001b[0;31mFile:\u001b[0m      ~/miniconda/envs/dask/lib/python3.7/site-packages/dask/dataframe/core.py\n",
       "\u001b[0;31mType:\u001b[0m      method\n"
      ]
     },
     "metadata": {},
     "output_type": "display_data"
    }
   ],
   "source": [
    "ddf.repartition?"
   ]
  },
  {
   "cell_type": "code",
   "execution_count": 14,
   "metadata": {},
   "outputs": [],
   "source": [
    "ddf = dd.read_parquet(f'{unpartitioned_dir}/2016/10')"
   ]
  },
  {
   "cell_type": "code",
   "execution_count": 16,
   "metadata": {},
   "outputs": [],
   "source": [
    "import pandas as pd"
   ]
  },
  {
   "cell_type": "code",
   "execution_count": 17,
   "metadata": {},
   "outputs": [
    {
     "data": {
      "text/plain": [
       "449215"
      ]
     },
     "execution_count": 17,
     "metadata": {},
     "output_type": "execute_result"
    }
   ],
   "source": [
    "len(pd.read_parquet('tmp.parquet/part.0.parquet'))"
   ]
  },
  {
   "cell_type": "code",
   "execution_count": 9,
   "metadata": {},
   "outputs": [
    {
     "data": {
      "text/plain": [
       "1506926"
      ]
     },
     "execution_count": 9,
     "metadata": {},
     "output_type": "execute_result"
    }
   ],
   "source": [
    "len(ddf)"
   ]
  },
  {
   "cell_type": "code",
   "execution_count": null,
   "metadata": {},
   "outputs": [],
   "source": [
    "delayed_funcs = []\n",
    "for in_file, out_file in parquet_files[:10]:\n",
    "    dask.delayed(partition_file)(in_file, out_file)\n"
   ]
  },
  {
   "cell_type": "code",
   "execution_count": null,
   "metadata": {},
   "outputs": [
    {
     "name": "stdout",
     "output_type": "stream",
     "text": [
      "1/1042\n",
      "2/1042\n",
      "3/1042\n",
      "4/1042\n",
      "5/1042\n",
      "6/1042\n",
      "7/1042\n",
      "8/1042\n",
      "9/1042\n",
      "10/1042\n",
      "11/1042\n",
      "12/1042\n",
      "13/1042\n",
      "14/1042\n",
      "15/1042\n",
      "16/1042\n",
      "17/1042\n",
      "18/1042\n",
      "19/1042\n",
      "20/1042\n",
      "21/1042\n",
      "22/1042\n",
      "23/1042\n",
      "24/1042\n",
      "25/1042\n",
      "26/1042\n",
      "27/1042\n",
      "28/1042\n",
      "29/1042\n",
      "30/1042\n",
      "31/1042\n",
      "32/1042\n",
      "33/1042\n",
      "34/1042\n",
      "35/1042\n",
      "36/1042\n",
      "37/1042\n",
      "38/1042\n",
      "39/1042\n",
      "40/1042\n",
      "41/1042\n",
      "42/1042\n",
      "43/1042\n",
      "44/1042\n",
      "45/1042\n",
      "46/1042\n",
      "47/1042\n",
      "48/1042\n",
      "49/1042\n",
      "50/1042\n",
      "51/1042\n",
      "52/1042\n",
      "53/1042\n",
      "54/1042\n",
      "55/1042\n",
      "56/1042\n",
      "57/1042\n",
      "58/1042\n",
      "59/1042\n",
      "60/1042\n",
      "61/1042\n",
      "62/1042\n",
      "63/1042\n",
      "64/1042\n",
      "65/1042\n",
      "66/1042\n",
      "67/1042\n",
      "68/1042\n",
      "69/1042\n",
      "70/1042\n",
      "71/1042\n",
      "72/1042\n",
      "73/1042\n",
      "74/1042\n",
      "75/1042\n",
      "76/1042\n",
      "77/1042\n",
      "78/1042\n",
      "79/1042\n",
      "80/1042\n",
      "81/1042\n",
      "82/1042\n",
      "83/1042\n",
      "84/1042\n",
      "85/1042\n",
      "86/1042\n",
      "87/1042\n",
      "88/1042\n",
      "89/1042\n",
      "90/1042\n",
      "91/1042\n",
      "92/1042\n",
      "93/1042\n",
      "94/1042\n",
      "95/1042\n",
      "96/1042\n",
      "97/1042\n",
      "98/1042\n",
      "99/1042\n",
      "100/1042\n",
      "101/1042\n",
      "102/1042\n",
      "103/1042\n",
      "104/1042\n",
      "105/1042\n",
      "106/1042\n",
      "107/1042\n",
      "108/1042\n",
      "109/1042\n",
      "110/1042\n",
      "111/1042\n",
      "112/1042\n",
      "113/1042\n",
      "114/1042\n",
      "115/1042\n",
      "116/1042\n",
      "117/1042\n",
      "118/1042\n",
      "119/1042\n",
      "120/1042\n",
      "121/1042\n",
      "122/1042\n",
      "123/1042\n",
      "124/1042\n",
      "125/1042\n",
      "126/1042\n",
      "127/1042\n",
      "128/1042\n",
      "129/1042\n",
      "130/1042\n",
      "131/1042\n",
      "132/1042\n",
      "133/1042\n",
      "134/1042\n",
      "135/1042\n",
      "136/1042\n",
      "137/1042\n",
      "138/1042\n",
      "139/1042\n",
      "140/1042\n",
      "141/1042\n",
      "142/1042\n",
      "143/1042\n",
      "144/1042\n",
      "145/1042\n",
      "146/1042\n",
      "147/1042\n",
      "148/1042\n",
      "149/1042\n",
      "150/1042\n",
      "151/1042\n",
      "152/1042\n",
      "153/1042\n",
      "154/1042\n",
      "155/1042\n",
      "156/1042\n",
      "157/1042\n",
      "158/1042\n",
      "159/1042\n",
      "160/1042\n",
      "161/1042\n",
      "162/1042\n",
      "163/1042\n",
      "164/1042\n",
      "165/1042\n",
      "166/1042\n",
      "167/1042\n",
      "168/1042\n",
      "169/1042\n",
      "170/1042\n",
      "171/1042\n",
      "172/1042\n",
      "173/1042\n",
      "174/1042\n",
      "175/1042\n",
      "176/1042\n",
      "177/1042\n",
      "178/1042\n",
      "179/1042\n",
      "180/1042\n",
      "181/1042\n",
      "182/1042\n",
      "183/1042\n",
      "184/1042\n",
      "185/1042\n",
      "186/1042\n",
      "187/1042\n",
      "188/1042\n",
      "189/1042\n",
      "190/1042\n",
      "191/1042\n",
      "192/1042\n",
      "193/1042\n",
      "194/1042\n",
      "195/1042\n",
      "196/1042\n",
      "197/1042\n",
      "198/1042\n",
      "199/1042\n",
      "200/1042\n",
      "201/1042\n",
      "202/1042\n",
      "203/1042\n",
      "204/1042\n",
      "205/1042\n",
      "206/1042\n",
      "207/1042\n",
      "208/1042\n",
      "209/1042\n",
      "210/1042\n",
      "211/1042\n",
      "212/1042\n",
      "213/1042\n",
      "214/1042\n",
      "215/1042\n",
      "216/1042\n",
      "217/1042\n",
      "218/1042\n",
      "219/1042\n",
      "220/1042\n",
      "221/1042\n",
      "222/1042\n",
      "223/1042\n",
      "224/1042\n",
      "225/1042\n",
      "226/1042\n",
      "227/1042\n",
      "228/1042\n",
      "229/1042\n"
     ]
    }
   ],
   "source": [
    "# delayed_funcs = []\n",
    "# for idx, (in_file, out_file) in enumerate(parquet_files):\n",
    "#     print(f'{idx+1}/{len(parquet_files)}')\n",
    "#     partition_file(input_file, output_file)"
   ]
  },
  {
   "cell_type": "code",
   "execution_count": 1,
   "metadata": {},
   "outputs": [
    {
     "ename": "NameError",
     "evalue": "name 'dask' is not defined",
     "output_type": "error",
     "traceback": [
      "\u001b[0;31m---------------------------------------------------------------------------\u001b[0m",
      "\u001b[0;31mNameError\u001b[0m                                 Traceback (most recent call last)",
      "\u001b[0;32m<ipython-input-1-78cad59cfb8d>\u001b[0m in \u001b[0;36m<module>\u001b[0;34m\u001b[0m\n\u001b[0;32m----> 1\u001b[0;31m \u001b[0mdask\u001b[0m\u001b[0;34m.\u001b[0m\u001b[0mcompute\u001b[0m\u001b[0;34m(\u001b[0m\u001b[0mdelayed_funcs\u001b[0m\u001b[0;34m)\u001b[0m\u001b[0;34m\u001b[0m\u001b[0;34m\u001b[0m\u001b[0m\n\u001b[0m",
      "\u001b[0;31mNameError\u001b[0m: name 'dask' is not defined"
     ]
    }
   ],
   "source": [
    "dask.compute(delayed_funcs)"
   ]
  },
  {
   "cell_type": "code",
   "execution_count": null,
   "metadata": {},
   "outputs": [],
   "source": [
    "parquet_files"
   ]
  },
  {
   "cell_type": "code",
   "execution_count": 8,
   "metadata": {},
   "outputs": [
    {
     "data": {
      "text/plain": [
       "34"
      ]
     },
     "execution_count": 8,
     "metadata": {},
     "output_type": "execute_result"
    }
   ],
   "source": [
    "len(delayed_funcs)"
   ]
  },
  {
   "cell_type": "code",
   "execution_count": 9,
   "metadata": {},
   "outputs": [
    {
     "name": "stderr",
     "output_type": "stream",
     "text": [
      "distributed.nanny - WARNING - Restarting worker\n",
      "distributed.nanny - WARNING - Restarting worker\n",
      "distributed.nanny - WARNING - Restarting worker\n",
      "distributed.nanny - WARNING - Restarting worker\n"
     ]
    },
    {
     "ename": "KilledWorker",
     "evalue": "('partition_file-34163293-099c-445d-a5f3-c1f971a31c24', <Worker 'tcp://127.0.0.1:33070', memory: 0, processing: 20>)",
     "output_type": "error",
     "traceback": [
      "\u001b[0;31m---------------------------------------------------------------------------\u001b[0m",
      "\u001b[0;31mKilledWorker\u001b[0m                              Traceback (most recent call last)",
      "\u001b[0;32m<ipython-input-9-78cad59cfb8d>\u001b[0m in \u001b[0;36m<module>\u001b[0;34m\u001b[0m\n\u001b[0;32m----> 1\u001b[0;31m \u001b[0mdask\u001b[0m\u001b[0;34m.\u001b[0m\u001b[0mcompute\u001b[0m\u001b[0;34m(\u001b[0m\u001b[0mdelayed_funcs\u001b[0m\u001b[0;34m)\u001b[0m\u001b[0;34m\u001b[0m\u001b[0;34m\u001b[0m\u001b[0m\n\u001b[0m",
      "\u001b[0;32m~/miniconda/envs/dask/lib/python3.7/site-packages/dask/base.py\u001b[0m in \u001b[0;36mcompute\u001b[0;34m(*args, **kwargs)\u001b[0m\n\u001b[1;32m    444\u001b[0m     \u001b[0mkeys\u001b[0m \u001b[0;34m=\u001b[0m \u001b[0;34m[\u001b[0m\u001b[0mx\u001b[0m\u001b[0;34m.\u001b[0m\u001b[0m__dask_keys__\u001b[0m\u001b[0;34m(\u001b[0m\u001b[0;34m)\u001b[0m \u001b[0;32mfor\u001b[0m \u001b[0mx\u001b[0m \u001b[0;32min\u001b[0m \u001b[0mcollections\u001b[0m\u001b[0;34m]\u001b[0m\u001b[0;34m\u001b[0m\u001b[0;34m\u001b[0m\u001b[0m\n\u001b[1;32m    445\u001b[0m     \u001b[0mpostcomputes\u001b[0m \u001b[0;34m=\u001b[0m \u001b[0;34m[\u001b[0m\u001b[0mx\u001b[0m\u001b[0;34m.\u001b[0m\u001b[0m__dask_postcompute__\u001b[0m\u001b[0;34m(\u001b[0m\u001b[0;34m)\u001b[0m \u001b[0;32mfor\u001b[0m \u001b[0mx\u001b[0m \u001b[0;32min\u001b[0m \u001b[0mcollections\u001b[0m\u001b[0;34m]\u001b[0m\u001b[0;34m\u001b[0m\u001b[0;34m\u001b[0m\u001b[0m\n\u001b[0;32m--> 446\u001b[0;31m     \u001b[0mresults\u001b[0m \u001b[0;34m=\u001b[0m \u001b[0mschedule\u001b[0m\u001b[0;34m(\u001b[0m\u001b[0mdsk\u001b[0m\u001b[0;34m,\u001b[0m \u001b[0mkeys\u001b[0m\u001b[0;34m,\u001b[0m \u001b[0;34m**\u001b[0m\u001b[0mkwargs\u001b[0m\u001b[0;34m)\u001b[0m\u001b[0;34m\u001b[0m\u001b[0;34m\u001b[0m\u001b[0m\n\u001b[0m\u001b[1;32m    447\u001b[0m     \u001b[0;32mreturn\u001b[0m \u001b[0mrepack\u001b[0m\u001b[0;34m(\u001b[0m\u001b[0;34m[\u001b[0m\u001b[0mf\u001b[0m\u001b[0;34m(\u001b[0m\u001b[0mr\u001b[0m\u001b[0;34m,\u001b[0m \u001b[0;34m*\u001b[0m\u001b[0ma\u001b[0m\u001b[0;34m)\u001b[0m \u001b[0;32mfor\u001b[0m \u001b[0mr\u001b[0m\u001b[0;34m,\u001b[0m \u001b[0;34m(\u001b[0m\u001b[0mf\u001b[0m\u001b[0;34m,\u001b[0m \u001b[0ma\u001b[0m\u001b[0;34m)\u001b[0m \u001b[0;32min\u001b[0m \u001b[0mzip\u001b[0m\u001b[0;34m(\u001b[0m\u001b[0mresults\u001b[0m\u001b[0;34m,\u001b[0m \u001b[0mpostcomputes\u001b[0m\u001b[0;34m)\u001b[0m\u001b[0;34m]\u001b[0m\u001b[0;34m)\u001b[0m\u001b[0;34m\u001b[0m\u001b[0;34m\u001b[0m\u001b[0m\n\u001b[1;32m    448\u001b[0m \u001b[0;34m\u001b[0m\u001b[0m\n",
      "\u001b[0;32m~/miniconda/envs/dask/lib/python3.7/site-packages/distributed/client.py\u001b[0m in \u001b[0;36mget\u001b[0;34m(self, dsk, keys, restrictions, loose_restrictions, resources, sync, asynchronous, direct, retries, priority, fifo_timeout, actors, **kwargs)\u001b[0m\n\u001b[1;32m   2508\u001b[0m                     \u001b[0mshould_rejoin\u001b[0m \u001b[0;34m=\u001b[0m \u001b[0;32mFalse\u001b[0m\u001b[0;34m\u001b[0m\u001b[0;34m\u001b[0m\u001b[0m\n\u001b[1;32m   2509\u001b[0m             \u001b[0;32mtry\u001b[0m\u001b[0;34m:\u001b[0m\u001b[0;34m\u001b[0m\u001b[0;34m\u001b[0m\u001b[0m\n\u001b[0;32m-> 2510\u001b[0;31m                 \u001b[0mresults\u001b[0m \u001b[0;34m=\u001b[0m \u001b[0mself\u001b[0m\u001b[0;34m.\u001b[0m\u001b[0mgather\u001b[0m\u001b[0;34m(\u001b[0m\u001b[0mpacked\u001b[0m\u001b[0;34m,\u001b[0m \u001b[0masynchronous\u001b[0m\u001b[0;34m=\u001b[0m\u001b[0masynchronous\u001b[0m\u001b[0;34m,\u001b[0m \u001b[0mdirect\u001b[0m\u001b[0;34m=\u001b[0m\u001b[0mdirect\u001b[0m\u001b[0;34m)\u001b[0m\u001b[0;34m\u001b[0m\u001b[0;34m\u001b[0m\u001b[0m\n\u001b[0m\u001b[1;32m   2511\u001b[0m             \u001b[0;32mfinally\u001b[0m\u001b[0;34m:\u001b[0m\u001b[0;34m\u001b[0m\u001b[0;34m\u001b[0m\u001b[0m\n\u001b[1;32m   2512\u001b[0m                 \u001b[0;32mfor\u001b[0m \u001b[0mf\u001b[0m \u001b[0;32min\u001b[0m \u001b[0mfutures\u001b[0m\u001b[0;34m.\u001b[0m\u001b[0mvalues\u001b[0m\u001b[0;34m(\u001b[0m\u001b[0;34m)\u001b[0m\u001b[0;34m:\u001b[0m\u001b[0;34m\u001b[0m\u001b[0;34m\u001b[0m\u001b[0m\n",
      "\u001b[0;32m~/miniconda/envs/dask/lib/python3.7/site-packages/distributed/client.py\u001b[0m in \u001b[0;36mgather\u001b[0;34m(self, futures, errors, direct, asynchronous)\u001b[0m\n\u001b[1;32m   1810\u001b[0m                 \u001b[0mdirect\u001b[0m\u001b[0;34m=\u001b[0m\u001b[0mdirect\u001b[0m\u001b[0;34m,\u001b[0m\u001b[0;34m\u001b[0m\u001b[0;34m\u001b[0m\u001b[0m\n\u001b[1;32m   1811\u001b[0m                 \u001b[0mlocal_worker\u001b[0m\u001b[0;34m=\u001b[0m\u001b[0mlocal_worker\u001b[0m\u001b[0;34m,\u001b[0m\u001b[0;34m\u001b[0m\u001b[0;34m\u001b[0m\u001b[0m\n\u001b[0;32m-> 1812\u001b[0;31m                 \u001b[0masynchronous\u001b[0m\u001b[0;34m=\u001b[0m\u001b[0masynchronous\u001b[0m\u001b[0;34m,\u001b[0m\u001b[0;34m\u001b[0m\u001b[0;34m\u001b[0m\u001b[0m\n\u001b[0m\u001b[1;32m   1813\u001b[0m             )\n\u001b[1;32m   1814\u001b[0m \u001b[0;34m\u001b[0m\u001b[0m\n",
      "\u001b[0;32m~/miniconda/envs/dask/lib/python3.7/site-packages/distributed/client.py\u001b[0m in \u001b[0;36msync\u001b[0;34m(self, func, asynchronous, callback_timeout, *args, **kwargs)\u001b[0m\n\u001b[1;32m    751\u001b[0m         \u001b[0;32melse\u001b[0m\u001b[0;34m:\u001b[0m\u001b[0;34m\u001b[0m\u001b[0;34m\u001b[0m\u001b[0m\n\u001b[1;32m    752\u001b[0m             return sync(\n\u001b[0;32m--> 753\u001b[0;31m                 \u001b[0mself\u001b[0m\u001b[0;34m.\u001b[0m\u001b[0mloop\u001b[0m\u001b[0;34m,\u001b[0m \u001b[0mfunc\u001b[0m\u001b[0;34m,\u001b[0m \u001b[0;34m*\u001b[0m\u001b[0margs\u001b[0m\u001b[0;34m,\u001b[0m \u001b[0mcallback_timeout\u001b[0m\u001b[0;34m=\u001b[0m\u001b[0mcallback_timeout\u001b[0m\u001b[0;34m,\u001b[0m \u001b[0;34m**\u001b[0m\u001b[0mkwargs\u001b[0m\u001b[0;34m\u001b[0m\u001b[0;34m\u001b[0m\u001b[0m\n\u001b[0m\u001b[1;32m    754\u001b[0m             )\n\u001b[1;32m    755\u001b[0m \u001b[0;34m\u001b[0m\u001b[0m\n",
      "\u001b[0;32m~/miniconda/envs/dask/lib/python3.7/site-packages/distributed/utils.py\u001b[0m in \u001b[0;36msync\u001b[0;34m(loop, func, callback_timeout, *args, **kwargs)\u001b[0m\n\u001b[1;32m    335\u001b[0m             \u001b[0me\u001b[0m\u001b[0;34m.\u001b[0m\u001b[0mwait\u001b[0m\u001b[0;34m(\u001b[0m\u001b[0;36m10\u001b[0m\u001b[0;34m)\u001b[0m\u001b[0;34m\u001b[0m\u001b[0;34m\u001b[0m\u001b[0m\n\u001b[1;32m    336\u001b[0m     \u001b[0;32mif\u001b[0m \u001b[0merror\u001b[0m\u001b[0;34m[\u001b[0m\u001b[0;36m0\u001b[0m\u001b[0;34m]\u001b[0m\u001b[0;34m:\u001b[0m\u001b[0;34m\u001b[0m\u001b[0;34m\u001b[0m\u001b[0m\n\u001b[0;32m--> 337\u001b[0;31m         \u001b[0msix\u001b[0m\u001b[0;34m.\u001b[0m\u001b[0mreraise\u001b[0m\u001b[0;34m(\u001b[0m\u001b[0;34m*\u001b[0m\u001b[0merror\u001b[0m\u001b[0;34m[\u001b[0m\u001b[0;36m0\u001b[0m\u001b[0;34m]\u001b[0m\u001b[0;34m)\u001b[0m\u001b[0;34m\u001b[0m\u001b[0;34m\u001b[0m\u001b[0m\n\u001b[0m\u001b[1;32m    338\u001b[0m     \u001b[0;32melse\u001b[0m\u001b[0;34m:\u001b[0m\u001b[0;34m\u001b[0m\u001b[0;34m\u001b[0m\u001b[0m\n\u001b[1;32m    339\u001b[0m         \u001b[0;32mreturn\u001b[0m \u001b[0mresult\u001b[0m\u001b[0;34m[\u001b[0m\u001b[0;36m0\u001b[0m\u001b[0;34m]\u001b[0m\u001b[0;34m\u001b[0m\u001b[0;34m\u001b[0m\u001b[0m\n",
      "\u001b[0;32m~/miniconda/envs/dask/lib/python3.7/site-packages/six.py\u001b[0m in \u001b[0;36mreraise\u001b[0;34m(tp, value, tb)\u001b[0m\n\u001b[1;32m    691\u001b[0m             \u001b[0;32mif\u001b[0m \u001b[0mvalue\u001b[0m\u001b[0;34m.\u001b[0m\u001b[0m__traceback__\u001b[0m \u001b[0;32mis\u001b[0m \u001b[0;32mnot\u001b[0m \u001b[0mtb\u001b[0m\u001b[0;34m:\u001b[0m\u001b[0;34m\u001b[0m\u001b[0;34m\u001b[0m\u001b[0m\n\u001b[1;32m    692\u001b[0m                 \u001b[0;32mraise\u001b[0m \u001b[0mvalue\u001b[0m\u001b[0;34m.\u001b[0m\u001b[0mwith_traceback\u001b[0m\u001b[0;34m(\u001b[0m\u001b[0mtb\u001b[0m\u001b[0;34m)\u001b[0m\u001b[0;34m\u001b[0m\u001b[0;34m\u001b[0m\u001b[0m\n\u001b[0;32m--> 693\u001b[0;31m             \u001b[0;32mraise\u001b[0m \u001b[0mvalue\u001b[0m\u001b[0;34m\u001b[0m\u001b[0;34m\u001b[0m\u001b[0m\n\u001b[0m\u001b[1;32m    694\u001b[0m         \u001b[0;32mfinally\u001b[0m\u001b[0;34m:\u001b[0m\u001b[0;34m\u001b[0m\u001b[0;34m\u001b[0m\u001b[0m\n\u001b[1;32m    695\u001b[0m             \u001b[0mvalue\u001b[0m \u001b[0;34m=\u001b[0m \u001b[0;32mNone\u001b[0m\u001b[0;34m\u001b[0m\u001b[0;34m\u001b[0m\u001b[0m\n",
      "\u001b[0;32m~/miniconda/envs/dask/lib/python3.7/site-packages/distributed/utils.py\u001b[0m in \u001b[0;36mf\u001b[0;34m()\u001b[0m\n\u001b[1;32m    320\u001b[0m             \u001b[0;32mif\u001b[0m \u001b[0mcallback_timeout\u001b[0m \u001b[0;32mis\u001b[0m \u001b[0;32mnot\u001b[0m \u001b[0;32mNone\u001b[0m\u001b[0;34m:\u001b[0m\u001b[0;34m\u001b[0m\u001b[0;34m\u001b[0m\u001b[0m\n\u001b[1;32m    321\u001b[0m                 \u001b[0mfuture\u001b[0m \u001b[0;34m=\u001b[0m \u001b[0mgen\u001b[0m\u001b[0;34m.\u001b[0m\u001b[0mwith_timeout\u001b[0m\u001b[0;34m(\u001b[0m\u001b[0mtimedelta\u001b[0m\u001b[0;34m(\u001b[0m\u001b[0mseconds\u001b[0m\u001b[0;34m=\u001b[0m\u001b[0mcallback_timeout\u001b[0m\u001b[0;34m)\u001b[0m\u001b[0;34m,\u001b[0m \u001b[0mfuture\u001b[0m\u001b[0;34m)\u001b[0m\u001b[0;34m\u001b[0m\u001b[0;34m\u001b[0m\u001b[0m\n\u001b[0;32m--> 322\u001b[0;31m             \u001b[0mresult\u001b[0m\u001b[0;34m[\u001b[0m\u001b[0;36m0\u001b[0m\u001b[0;34m]\u001b[0m \u001b[0;34m=\u001b[0m \u001b[0;32myield\u001b[0m \u001b[0mfuture\u001b[0m\u001b[0;34m\u001b[0m\u001b[0;34m\u001b[0m\u001b[0m\n\u001b[0m\u001b[1;32m    323\u001b[0m         \u001b[0;32mexcept\u001b[0m \u001b[0mException\u001b[0m \u001b[0;32mas\u001b[0m \u001b[0mexc\u001b[0m\u001b[0;34m:\u001b[0m\u001b[0;34m\u001b[0m\u001b[0;34m\u001b[0m\u001b[0m\n\u001b[1;32m    324\u001b[0m             \u001b[0merror\u001b[0m\u001b[0;34m[\u001b[0m\u001b[0;36m0\u001b[0m\u001b[0;34m]\u001b[0m \u001b[0;34m=\u001b[0m \u001b[0msys\u001b[0m\u001b[0;34m.\u001b[0m\u001b[0mexc_info\u001b[0m\u001b[0;34m(\u001b[0m\u001b[0;34m)\u001b[0m\u001b[0;34m\u001b[0m\u001b[0;34m\u001b[0m\u001b[0m\n",
      "\u001b[0;32m~/miniconda/envs/dask/lib/python3.7/site-packages/tornado/gen.py\u001b[0m in \u001b[0;36mrun\u001b[0;34m(self)\u001b[0m\n\u001b[1;32m    733\u001b[0m \u001b[0;34m\u001b[0m\u001b[0m\n\u001b[1;32m    734\u001b[0m                     \u001b[0;32mtry\u001b[0m\u001b[0;34m:\u001b[0m\u001b[0;34m\u001b[0m\u001b[0;34m\u001b[0m\u001b[0m\n\u001b[0;32m--> 735\u001b[0;31m                         \u001b[0mvalue\u001b[0m \u001b[0;34m=\u001b[0m \u001b[0mfuture\u001b[0m\u001b[0;34m.\u001b[0m\u001b[0mresult\u001b[0m\u001b[0;34m(\u001b[0m\u001b[0;34m)\u001b[0m\u001b[0;34m\u001b[0m\u001b[0;34m\u001b[0m\u001b[0m\n\u001b[0m\u001b[1;32m    736\u001b[0m                     \u001b[0;32mexcept\u001b[0m \u001b[0mException\u001b[0m\u001b[0;34m:\u001b[0m\u001b[0;34m\u001b[0m\u001b[0;34m\u001b[0m\u001b[0m\n\u001b[1;32m    737\u001b[0m                         \u001b[0mexc_info\u001b[0m \u001b[0;34m=\u001b[0m \u001b[0msys\u001b[0m\u001b[0;34m.\u001b[0m\u001b[0mexc_info\u001b[0m\u001b[0;34m(\u001b[0m\u001b[0;34m)\u001b[0m\u001b[0;34m\u001b[0m\u001b[0;34m\u001b[0m\u001b[0m\n",
      "\u001b[0;32m~/miniconda/envs/dask/lib/python3.7/site-packages/distributed/client.py\u001b[0m in \u001b[0;36m_gather\u001b[0;34m(self, futures, errors, direct, local_worker)\u001b[0m\n\u001b[1;32m   1666\u001b[0m                             \u001b[0mexc\u001b[0m \u001b[0;34m=\u001b[0m \u001b[0mCancelledError\u001b[0m\u001b[0;34m(\u001b[0m\u001b[0mkey\u001b[0m\u001b[0;34m)\u001b[0m\u001b[0;34m\u001b[0m\u001b[0;34m\u001b[0m\u001b[0m\n\u001b[1;32m   1667\u001b[0m                         \u001b[0;32melse\u001b[0m\u001b[0;34m:\u001b[0m\u001b[0;34m\u001b[0m\u001b[0;34m\u001b[0m\u001b[0m\n\u001b[0;32m-> 1668\u001b[0;31m                             \u001b[0msix\u001b[0m\u001b[0;34m.\u001b[0m\u001b[0mreraise\u001b[0m\u001b[0;34m(\u001b[0m\u001b[0mtype\u001b[0m\u001b[0;34m(\u001b[0m\u001b[0mexception\u001b[0m\u001b[0;34m)\u001b[0m\u001b[0;34m,\u001b[0m \u001b[0mexception\u001b[0m\u001b[0;34m,\u001b[0m \u001b[0mtraceback\u001b[0m\u001b[0;34m)\u001b[0m\u001b[0;34m\u001b[0m\u001b[0;34m\u001b[0m\u001b[0m\n\u001b[0m\u001b[1;32m   1669\u001b[0m                         \u001b[0;32mraise\u001b[0m \u001b[0mexc\u001b[0m\u001b[0;34m\u001b[0m\u001b[0;34m\u001b[0m\u001b[0m\n\u001b[1;32m   1670\u001b[0m                     \u001b[0;32mif\u001b[0m \u001b[0merrors\u001b[0m \u001b[0;34m==\u001b[0m \u001b[0;34m\"skip\"\u001b[0m\u001b[0;34m:\u001b[0m\u001b[0;34m\u001b[0m\u001b[0;34m\u001b[0m\u001b[0m\n",
      "\u001b[0;32m~/miniconda/envs/dask/lib/python3.7/site-packages/six.py\u001b[0m in \u001b[0;36mreraise\u001b[0;34m(tp, value, tb)\u001b[0m\n\u001b[1;32m    691\u001b[0m             \u001b[0;32mif\u001b[0m \u001b[0mvalue\u001b[0m\u001b[0;34m.\u001b[0m\u001b[0m__traceback__\u001b[0m \u001b[0;32mis\u001b[0m \u001b[0;32mnot\u001b[0m \u001b[0mtb\u001b[0m\u001b[0;34m:\u001b[0m\u001b[0;34m\u001b[0m\u001b[0;34m\u001b[0m\u001b[0m\n\u001b[1;32m    692\u001b[0m                 \u001b[0;32mraise\u001b[0m \u001b[0mvalue\u001b[0m\u001b[0;34m.\u001b[0m\u001b[0mwith_traceback\u001b[0m\u001b[0;34m(\u001b[0m\u001b[0mtb\u001b[0m\u001b[0;34m)\u001b[0m\u001b[0;34m\u001b[0m\u001b[0;34m\u001b[0m\u001b[0m\n\u001b[0;32m--> 693\u001b[0;31m             \u001b[0;32mraise\u001b[0m \u001b[0mvalue\u001b[0m\u001b[0;34m\u001b[0m\u001b[0;34m\u001b[0m\u001b[0m\n\u001b[0m\u001b[1;32m    694\u001b[0m         \u001b[0;32mfinally\u001b[0m\u001b[0;34m:\u001b[0m\u001b[0;34m\u001b[0m\u001b[0;34m\u001b[0m\u001b[0m\n\u001b[1;32m    695\u001b[0m             \u001b[0mvalue\u001b[0m \u001b[0;34m=\u001b[0m \u001b[0;32mNone\u001b[0m\u001b[0;34m\u001b[0m\u001b[0;34m\u001b[0m\u001b[0m\n",
      "\u001b[0;31mKilledWorker\u001b[0m: ('partition_file-34163293-099c-445d-a5f3-c1f971a31c24', <Worker 'tcp://127.0.0.1:33070', memory: 0, processing: 20>)"
     ]
    },
    {
     "name": "stderr",
     "output_type": "stream",
     "text": [
      "distributed.nanny - WARNING - Restarting worker\n",
      "distributed.nanny - WARNING - Restarting worker\n"
     ]
    }
   ],
   "source": [
    "dask.compute(delayed_funcs)"
   ]
  },
  {
   "cell_type": "code",
   "execution_count": 50,
   "metadata": {},
   "outputs": [
    {
     "data": {
      "text/plain": [
       "1042"
      ]
     },
     "execution_count": 50,
     "metadata": {},
     "output_type": "execute_result"
    }
   ],
   "source": [
    "len(parquet_files)"
   ]
  },
  {
   "cell_type": "code",
   "execution_count": null,
   "metadata": {},
   "outputs": [],
   "source": []
  },
  {
   "cell_type": "code",
   "execution_count": 3,
   "metadata": {},
   "outputs": [],
   "source": [
    "# cluster = LocalCUDACluster()\n",
    "\n",
    "# client = distributed.Client(cluster)"
   ]
  },
  {
   "cell_type": "code",
   "execution_count": 4,
   "metadata": {},
   "outputs": [],
   "source": [
    "year, month, day = '2019-09-01'.split('-')\n",
    "fname = f'/mnt/storage/anaconda-parsed-logs/{year}/{month}/{year}-{month}-{day}.parquet'\n",
    "partitioned_fname = f'/mnt/storage/parsed-logs-partitioned/{year}/{month}/{year}-{month}-{day}.parquet'\n",
    "os.makedirs(os.path.dirname(partitioned_fname), exist_ok=True)"
   ]
  },
  {
   "cell_type": "code",
   "execution_count": 5,
   "metadata": {},
   "outputs": [],
   "source": [
    "ddf = dd.read_parquet(fname)"
   ]
  },
  {
   "cell_type": "code",
   "execution_count": 8,
   "metadata": {},
   "outputs": [
    {
     "data": {
      "text/html": [
       "<div>\n",
       "<style scoped>\n",
       "    .dataframe tbody tr th:only-of-type {\n",
       "        vertical-align: middle;\n",
       "    }\n",
       "\n",
       "    .dataframe tbody tr th {\n",
       "        vertical-align: top;\n",
       "    }\n",
       "\n",
       "    .dataframe thead th {\n",
       "        text-align: right;\n",
       "    }\n",
       "</style>\n",
       "<table border=\"1\" class=\"dataframe\">\n",
       "  <thead>\n",
       "    <tr style=\"text-align: right;\">\n",
       "      <th></th>\n",
       "      <th>bytes</th>\n",
       "      <th>city</th>\n",
       "      <th>continent</th>\n",
       "      <th>country</th>\n",
       "      <th>domain_name</th>\n",
       "      <th>full_user_agent</th>\n",
       "      <th>ip</th>\n",
       "      <th>label</th>\n",
       "      <th>latitude</th>\n",
       "      <th>longitude</th>\n",
       "      <th>...</th>\n",
       "      <th>pkg_python</th>\n",
       "      <th>pkg_version</th>\n",
       "      <th>postal_code</th>\n",
       "      <th>rayid</th>\n",
       "      <th>source</th>\n",
       "      <th>uri</th>\n",
       "      <th>user_agent</th>\n",
       "      <th>user_agent_version</th>\n",
       "      <th>user_platform</th>\n",
       "      <th>user_platform_version</th>\n",
       "    </tr>\n",
       "    <tr>\n",
       "      <th>timestamp</th>\n",
       "      <th></th>\n",
       "      <th></th>\n",
       "      <th></th>\n",
       "      <th></th>\n",
       "      <th></th>\n",
       "      <th></th>\n",
       "      <th></th>\n",
       "      <th></th>\n",
       "      <th></th>\n",
       "      <th></th>\n",
       "      <th></th>\n",
       "      <th></th>\n",
       "      <th></th>\n",
       "      <th></th>\n",
       "      <th></th>\n",
       "      <th></th>\n",
       "      <th></th>\n",
       "      <th></th>\n",
       "      <th></th>\n",
       "      <th></th>\n",
       "      <th></th>\n",
       "    </tr>\n",
       "  </thead>\n",
       "  <tbody>\n",
       "    <tr>\n",
       "      <td>2019-09-01 00:00:00.072</td>\n",
       "      <td>452325</td>\n",
       "      <td>Ann Arbor</td>\n",
       "      <td>North America</td>\n",
       "      <td>United States</td>\n",
       "      <td>65.237.35.bc.googleusercontent.com</td>\n",
       "      <td>conda/4.5.4 requests/2.18.4 CPython/3.6.5 Linu...</td>\n",
       "      <td>35.237.65.0</td>\n",
       "      <td></td>\n",
       "      <td>42.2734</td>\n",
       "      <td>-83.7133</td>\n",
       "      <td>...</td>\n",
       "      <td></td>\n",
       "      <td>8.0</td>\n",
       "      <td>48104</td>\n",
       "      <td>50f2f6207888ba4c</td>\n",
       "      <td>cloudflare_anaconda</td>\n",
       "      <td>/conda-forge/linux-64/readline-8.0-hf8c457e_0....</td>\n",
       "      <td>Conda</td>\n",
       "      <td>4.5.4</td>\n",
       "      <td>Linux</td>\n",
       "      <td>4.9.0-9-amd64</td>\n",
       "    </tr>\n",
       "    <tr>\n",
       "      <td>2019-09-01 00:00:00.118</td>\n",
       "      <td>7165775</td>\n",
       "      <td>Grove City</td>\n",
       "      <td>North America</td>\n",
       "      <td>United States</td>\n",
       "      <td>zoominternet.net</td>\n",
       "      <td>conda/4.5.12 requests/2.21.0 CPython/3.7.1 Win...</td>\n",
       "      <td>24.144.174.0</td>\n",
       "      <td>NaN</td>\n",
       "      <td>41.1660</td>\n",
       "      <td>-80.0615</td>\n",
       "      <td>...</td>\n",
       "      <td>37</td>\n",
       "      <td>3.2.1</td>\n",
       "      <td>16127</td>\n",
       "      <td>50f2f620bb44a403</td>\n",
       "      <td>cloudflare_repo_anaconda</td>\n",
       "      <td>/pkgs/main/win-64/astropy-3.2.1-py37he774522_0...</td>\n",
       "      <td>Conda</td>\n",
       "      <td>4.5.12</td>\n",
       "      <td>Windows</td>\n",
       "      <td>10</td>\n",
       "    </tr>\n",
       "    <tr>\n",
       "      <td>2019-09-01 00:00:00.164</td>\n",
       "      <td>4213278</td>\n",
       "      <td>Bergen</td>\n",
       "      <td>Europe</td>\n",
       "      <td>Norway</td>\n",
       "      <td>bb.online.no</td>\n",
       "      <td>conda/4.3.34 requests/2.19.1 CPython/2.7.13 Li...</td>\n",
       "      <td>88.91.183.0</td>\n",
       "      <td>NaN</td>\n",
       "      <td>60.3266</td>\n",
       "      <td>5.3024</td>\n",
       "      <td>...</td>\n",
       "      <td>27</td>\n",
       "      <td>2.3.2</td>\n",
       "      <td>5152</td>\n",
       "      <td>50f2f6210824428f</td>\n",
       "      <td>cloudflare_repo_anaconda</td>\n",
       "      <td>/pkgs/free/linux-64/spyder-2.3.2-py27_0.tar.bz2</td>\n",
       "      <td>Conda</td>\n",
       "      <td>4.3.34</td>\n",
       "      <td>Linux</td>\n",
       "      <td>3.10.0-957.27.2.el7.x86_64</td>\n",
       "    </tr>\n",
       "    <tr>\n",
       "      <td>2019-09-01 00:00:00.173</td>\n",
       "      <td>6114</td>\n",
       "      <td>Barcelona</td>\n",
       "      <td>Europe</td>\n",
       "      <td>Spain</td>\n",
       "      <td>bsc.es</td>\n",
       "      <td>Mozilla</td>\n",
       "      <td>84.88.52.0</td>\n",
       "      <td></td>\n",
       "      <td>41.3888</td>\n",
       "      <td>2.1590</td>\n",
       "      <td>...</td>\n",
       "      <td></td>\n",
       "      <td>1.16.0</td>\n",
       "      <td>08034</td>\n",
       "      <td>50f2f6211ddf614f</td>\n",
       "      <td>cloudflare_anaconda</td>\n",
       "      <td>/bioconda/bioconductor-mirsynergy/1.16.0/downl...</td>\n",
       "      <td>Mozilla</td>\n",
       "      <td></td>\n",
       "      <td></td>\n",
       "      <td></td>\n",
       "    </tr>\n",
       "    <tr>\n",
       "      <td>2019-09-01 00:00:00.224</td>\n",
       "      <td>6168</td>\n",
       "      <td>Barcelona</td>\n",
       "      <td>Europe</td>\n",
       "      <td>Spain</td>\n",
       "      <td>bsc.es</td>\n",
       "      <td>Mozilla</td>\n",
       "      <td>84.88.52.0</td>\n",
       "      <td></td>\n",
       "      <td>41.3888</td>\n",
       "      <td>2.1590</td>\n",
       "      <td>...</td>\n",
       "      <td></td>\n",
       "      <td>1.40.0</td>\n",
       "      <td>08034</td>\n",
       "      <td>50f2f6216a776161</td>\n",
       "      <td>cloudflare_anaconda</td>\n",
       "      <td>/bioconda/bioconductor-genoset/1.40.0/download...</td>\n",
       "      <td>Mozilla</td>\n",
       "      <td></td>\n",
       "      <td></td>\n",
       "      <td></td>\n",
       "    </tr>\n",
       "  </tbody>\n",
       "</table>\n",
       "<p>5 rows × 26 columns</p>\n",
       "</div>"
      ],
      "text/plain": [
       "                           bytes        city      continent        country  \\\n",
       "timestamp                                                                    \n",
       "2019-09-01 00:00:00.072   452325   Ann Arbor  North America  United States   \n",
       "2019-09-01 00:00:00.118  7165775  Grove City  North America  United States   \n",
       "2019-09-01 00:00:00.164  4213278      Bergen         Europe         Norway   \n",
       "2019-09-01 00:00:00.173     6114   Barcelona         Europe          Spain   \n",
       "2019-09-01 00:00:00.224     6168   Barcelona         Europe          Spain   \n",
       "\n",
       "                                                domain_name  \\\n",
       "timestamp                                                     \n",
       "2019-09-01 00:00:00.072  65.237.35.bc.googleusercontent.com   \n",
       "2019-09-01 00:00:00.118                    zoominternet.net   \n",
       "2019-09-01 00:00:00.164                        bb.online.no   \n",
       "2019-09-01 00:00:00.173                              bsc.es   \n",
       "2019-09-01 00:00:00.224                              bsc.es   \n",
       "\n",
       "                                                           full_user_agent  \\\n",
       "timestamp                                                                    \n",
       "2019-09-01 00:00:00.072  conda/4.5.4 requests/2.18.4 CPython/3.6.5 Linu...   \n",
       "2019-09-01 00:00:00.118  conda/4.5.12 requests/2.21.0 CPython/3.7.1 Win...   \n",
       "2019-09-01 00:00:00.164  conda/4.3.34 requests/2.19.1 CPython/2.7.13 Li...   \n",
       "2019-09-01 00:00:00.173                                            Mozilla   \n",
       "2019-09-01 00:00:00.224                                            Mozilla   \n",
       "\n",
       "                                   ip label  latitude  longitude  ...  \\\n",
       "timestamp                                                         ...   \n",
       "2019-09-01 00:00:00.072   35.237.65.0         42.2734   -83.7133  ...   \n",
       "2019-09-01 00:00:00.118  24.144.174.0   NaN   41.1660   -80.0615  ...   \n",
       "2019-09-01 00:00:00.164   88.91.183.0   NaN   60.3266     5.3024  ...   \n",
       "2019-09-01 00:00:00.173    84.88.52.0         41.3888     2.1590  ...   \n",
       "2019-09-01 00:00:00.224    84.88.52.0         41.3888     2.1590  ...   \n",
       "\n",
       "                        pkg_python pkg_version postal_code             rayid  \\\n",
       "timestamp                                                                      \n",
       "2019-09-01 00:00:00.072                    8.0       48104  50f2f6207888ba4c   \n",
       "2019-09-01 00:00:00.118         37       3.2.1       16127  50f2f620bb44a403   \n",
       "2019-09-01 00:00:00.164         27       2.3.2        5152  50f2f6210824428f   \n",
       "2019-09-01 00:00:00.173                 1.16.0       08034  50f2f6211ddf614f   \n",
       "2019-09-01 00:00:00.224                 1.40.0       08034  50f2f6216a776161   \n",
       "\n",
       "                                           source  \\\n",
       "timestamp                                           \n",
       "2019-09-01 00:00:00.072       cloudflare_anaconda   \n",
       "2019-09-01 00:00:00.118  cloudflare_repo_anaconda   \n",
       "2019-09-01 00:00:00.164  cloudflare_repo_anaconda   \n",
       "2019-09-01 00:00:00.173       cloudflare_anaconda   \n",
       "2019-09-01 00:00:00.224       cloudflare_anaconda   \n",
       "\n",
       "                                                                       uri  \\\n",
       "timestamp                                                                    \n",
       "2019-09-01 00:00:00.072  /conda-forge/linux-64/readline-8.0-hf8c457e_0....   \n",
       "2019-09-01 00:00:00.118  /pkgs/main/win-64/astropy-3.2.1-py37he774522_0...   \n",
       "2019-09-01 00:00:00.164    /pkgs/free/linux-64/spyder-2.3.2-py27_0.tar.bz2   \n",
       "2019-09-01 00:00:00.173  /bioconda/bioconductor-mirsynergy/1.16.0/downl...   \n",
       "2019-09-01 00:00:00.224  /bioconda/bioconductor-genoset/1.40.0/download...   \n",
       "\n",
       "                        user_agent user_agent_version user_platform  \\\n",
       "timestamp                                                             \n",
       "2019-09-01 00:00:00.072      Conda              4.5.4         Linux   \n",
       "2019-09-01 00:00:00.118      Conda             4.5.12       Windows   \n",
       "2019-09-01 00:00:00.164      Conda             4.3.34         Linux   \n",
       "2019-09-01 00:00:00.173    Mozilla                                    \n",
       "2019-09-01 00:00:00.224    Mozilla                                    \n",
       "\n",
       "                              user_platform_version  \n",
       "timestamp                                            \n",
       "2019-09-01 00:00:00.072               4.9.0-9-amd64  \n",
       "2019-09-01 00:00:00.118                          10  \n",
       "2019-09-01 00:00:00.164  3.10.0-957.27.2.el7.x86_64  \n",
       "2019-09-01 00:00:00.173                              \n",
       "2019-09-01 00:00:00.224                              \n",
       "\n",
       "[5 rows x 26 columns]"
      ]
     },
     "execution_count": 8,
     "metadata": {},
     "output_type": "execute_result"
    }
   ],
   "source": [
    "ddf.head()"
   ]
  },
  {
   "cell_type": "code",
   "execution_count": 11,
   "metadata": {},
   "outputs": [],
   "source": [
    "ddf = ddf.repartition(partition_size=\"256MB\")"
   ]
  },
  {
   "cell_type": "code",
   "execution_count": null,
   "metadata": {},
   "outputs": [],
   "source": [
    "ddf.to_parquet(partitioned_fname)"
   ]
  },
  {
   "cell_type": "code",
   "execution_count": 12,
   "metadata": {},
   "outputs": [
    {
     "data": {
      "text/plain": [
       "10"
      ]
     },
     "execution_count": 12,
     "metadata": {},
     "output_type": "execute_result"
    }
   ],
   "source": [
    "ddf.npartitions"
   ]
  },
  {
   "cell_type": "code",
   "execution_count": null,
   "metadata": {},
   "outputs": [],
   "source": []
  },
  {
   "cell_type": "code",
   "execution_count": 10,
   "metadata": {},
   "outputs": [],
   "source": [
    "ddf.to_parquet(partitioned_fname)"
   ]
  },
  {
   "cell_type": "code",
   "execution_count": null,
   "metadata": {},
   "outputs": [],
   "source": [
    "import fastparquet"
   ]
  }
 ],
 "metadata": {
  "kernelspec": {
   "display_name": "dask",
   "language": "python",
   "name": "dask"
  },
  "language_info": {
   "codemirror_mode": {
    "name": "ipython",
    "version": 3
   },
   "file_extension": ".py",
   "mimetype": "text/x-python",
   "name": "python",
   "nbconvert_exporter": "python",
   "pygments_lexer": "ipython3",
   "version": "3.7.4"
  }
 },
 "nbformat": 4,
 "nbformat_minor": 4
}
