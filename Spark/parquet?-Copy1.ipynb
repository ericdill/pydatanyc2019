{
 "cells": [
  {
   "cell_type": "code",
   "execution_count": 13,
   "metadata": {},
   "outputs": [],
   "source": [
    "date = '2019-09-01'"
   ]
  },
  {
   "cell_type": "code",
   "execution_count": 14,
   "metadata": {},
   "outputs": [
    {
     "data": {
      "text/plain": [
       "'0.24.2'"
      ]
     },
     "execution_count": 14,
     "metadata": {},
     "output_type": "execute_result"
    }
   ],
   "source": [
    "import pandas as pd\n",
    "pd.__version__"
   ]
  },
  {
   "cell_type": "code",
   "execution_count": 22,
   "metadata": {},
   "outputs": [
    {
     "data": {
      "text/plain": [
       "'s3://edill-data/cleaned-logs/2016/10/2016-10-28.parquet'"
      ]
     },
     "execution_count": 22,
     "metadata": {},
     "output_type": "execute_result"
    }
   ],
   "source": [
    "y, m, d = date.split('-')\n",
    "input_base = 's3://edill-data/cleaned-logs'\n",
    "#output_base = 's3://edill-data/conda/hourly'\n",
    "input_file = f'{input_base}/{y}/{m}/{date}.parquet'\n",
    "#output_file = f'{output_base}/{y}/{m}/{date}.parquet'\n",
    "input_file"
   ]
  },
  {
   "cell_type": "code",
   "execution_count": 23,
   "metadata": {},
   "outputs": [
    {
     "data": {
      "text/plain": [
       "time            datetime64[ns]\n",
       "data_source           category\n",
       "pkg_name              category\n",
       "pkg_version           category\n",
       "pkg_platform          category\n",
       "pkg_python            category\n",
       "bytes                    int64\n",
       "day_name                object\n",
       "hour                     int64\n",
       "counts                   int64\n",
       "dtype: object"
      ]
     },
     "execution_count": 23,
     "metadata": {},
     "output_type": "execute_result"
    }
   ],
   "source": [
    "df = pd.read_parquet(input_file)\n",
    "df.dtypes"
   ]
  },
  {
   "cell_type": "code",
   "execution_count": 24,
   "metadata": {},
   "outputs": [
    {
     "data": {
      "text/html": [
       "<div>\n",
       "<style scoped>\n",
       "    .dataframe tbody tr th:only-of-type {\n",
       "        vertical-align: middle;\n",
       "    }\n",
       "\n",
       "    .dataframe tbody tr th {\n",
       "        vertical-align: top;\n",
       "    }\n",
       "\n",
       "    .dataframe thead th {\n",
       "        text-align: right;\n",
       "    }\n",
       "</style>\n",
       "<table border=\"1\" class=\"dataframe\">\n",
       "  <thead>\n",
       "    <tr style=\"text-align: right;\">\n",
       "      <th></th>\n",
       "      <th>0</th>\n",
       "      <th>1</th>\n",
       "      <th>2</th>\n",
       "      <th>3</th>\n",
       "      <th>4</th>\n",
       "    </tr>\n",
       "  </thead>\n",
       "  <tbody>\n",
       "    <tr>\n",
       "      <th>time</th>\n",
       "      <td>2016-10-28 17:00:00</td>\n",
       "      <td>2016-10-28 17:00:00</td>\n",
       "      <td>2016-10-28 17:00:00</td>\n",
       "      <td>2016-10-28 17:00:00</td>\n",
       "      <td>2016-10-28 17:00:00</td>\n",
       "    </tr>\n",
       "    <tr>\n",
       "      <th>data_source</th>\n",
       "      <td>anaconda</td>\n",
       "      <td>anaconda</td>\n",
       "      <td>anaconda</td>\n",
       "      <td>anaconda</td>\n",
       "      <td>anaconda</td>\n",
       "    </tr>\n",
       "    <tr>\n",
       "      <th>pkg_name</th>\n",
       "      <td>anaconda-client</td>\n",
       "      <td>appscript</td>\n",
       "      <td>appscript</td>\n",
       "      <td>bzip2</td>\n",
       "      <td>bzip2</td>\n",
       "    </tr>\n",
       "    <tr>\n",
       "      <th>pkg_version</th>\n",
       "      <td>1.5.3</td>\n",
       "      <td>1.0.1</td>\n",
       "      <td>1.0.1</td>\n",
       "      <td>1.0.6</td>\n",
       "      <td>1.0.6</td>\n",
       "    </tr>\n",
       "    <tr>\n",
       "      <th>pkg_platform</th>\n",
       "      <td>linux-64</td>\n",
       "      <td>osx-64</td>\n",
       "      <td>osx-64</td>\n",
       "      <td>linux-64</td>\n",
       "      <td>linux-64</td>\n",
       "    </tr>\n",
       "    <tr>\n",
       "      <th>pkg_python</th>\n",
       "      <td>3.5</td>\n",
       "      <td>2.7</td>\n",
       "      <td>2.7</td>\n",
       "      <td></td>\n",
       "      <td></td>\n",
       "    </tr>\n",
       "    <tr>\n",
       "      <th>bytes</th>\n",
       "      <td>119691</td>\n",
       "      <td>125038</td>\n",
       "      <td>125039</td>\n",
       "      <td>85291</td>\n",
       "      <td>85292</td>\n",
       "    </tr>\n",
       "    <tr>\n",
       "      <th>day_name</th>\n",
       "      <td>Friday</td>\n",
       "      <td>Friday</td>\n",
       "      <td>Friday</td>\n",
       "      <td>Friday</td>\n",
       "      <td>Friday</td>\n",
       "    </tr>\n",
       "    <tr>\n",
       "      <th>hour</th>\n",
       "      <td>17</td>\n",
       "      <td>17</td>\n",
       "      <td>17</td>\n",
       "      <td>17</td>\n",
       "      <td>17</td>\n",
       "    </tr>\n",
       "    <tr>\n",
       "      <th>counts</th>\n",
       "      <td>1</td>\n",
       "      <td>3</td>\n",
       "      <td>2</td>\n",
       "      <td>4</td>\n",
       "      <td>1</td>\n",
       "    </tr>\n",
       "  </tbody>\n",
       "</table>\n",
       "</div>"
      ],
      "text/plain": [
       "                                0                    1                    2  \\\n",
       "time          2016-10-28 17:00:00  2016-10-28 17:00:00  2016-10-28 17:00:00   \n",
       "data_source              anaconda             anaconda             anaconda   \n",
       "pkg_name          anaconda-client            appscript            appscript   \n",
       "pkg_version                 1.5.3                1.0.1                1.0.1   \n",
       "pkg_platform             linux-64               osx-64               osx-64   \n",
       "pkg_python                    3.5                  2.7                  2.7   \n",
       "bytes                      119691               125038               125039   \n",
       "day_name                   Friday               Friday               Friday   \n",
       "hour                           17                   17                   17   \n",
       "counts                          1                    3                    2   \n",
       "\n",
       "                                3                    4  \n",
       "time          2016-10-28 17:00:00  2016-10-28 17:00:00  \n",
       "data_source              anaconda             anaconda  \n",
       "pkg_name                    bzip2                bzip2  \n",
       "pkg_version                 1.0.6                1.0.6  \n",
       "pkg_platform             linux-64             linux-64  \n",
       "pkg_python                                              \n",
       "bytes                       85291                85292  \n",
       "day_name                   Friday               Friday  \n",
       "hour                           17                   17  \n",
       "counts                          4                    1  "
      ]
     },
     "execution_count": 24,
     "metadata": {},
     "output_type": "execute_result"
    }
   ],
   "source": [
    "df.head().T"
   ]
  },
  {
   "cell_type": "code",
   "execution_count": 25,
   "metadata": {},
   "outputs": [],
   "source": [
    "import cudf"
   ]
  },
  {
   "cell_type": "code",
   "execution_count": 26,
   "metadata": {},
   "outputs": [
    {
     "data": {
      "text/plain": [
       "time            datetime64[ms]\n",
       "data_source             object\n",
       "pkg_name                object\n",
       "pkg_version             object\n",
       "pkg_platform            object\n",
       "pkg_python              object\n",
       "bytes                    int64\n",
       "day_name                object\n",
       "hour                     int64\n",
       "counts                   int64\n",
       "dtype: object"
      ]
     },
     "execution_count": 26,
     "metadata": {},
     "output_type": "execute_result"
    }
   ],
   "source": [
    "cdf = cudf.read_parquet(input_file)\n",
    "cdf.dtypes"
   ]
  },
  {
   "cell_type": "code",
   "execution_count": 27,
   "metadata": {},
   "outputs": [
    {
     "data": {
      "text/html": [
       "<div>\n",
       "<style scoped>\n",
       "    .dataframe tbody tr th:only-of-type {\n",
       "        vertical-align: middle;\n",
       "    }\n",
       "\n",
       "    .dataframe tbody tr th {\n",
       "        vertical-align: top;\n",
       "    }\n",
       "\n",
       "    .dataframe thead th {\n",
       "        text-align: right;\n",
       "    }\n",
       "</style>\n",
       "<table border=\"1\" class=\"dataframe\">\n",
       "  <thead>\n",
       "    <tr style=\"text-align: right;\">\n",
       "      <th></th>\n",
       "      <th>0</th>\n",
       "      <th>1</th>\n",
       "      <th>2</th>\n",
       "      <th>3</th>\n",
       "      <th>4</th>\n",
       "    </tr>\n",
       "  </thead>\n",
       "  <tbody>\n",
       "    <tr>\n",
       "      <th>time</th>\n",
       "      <td>2016-10-28 17:00:00</td>\n",
       "      <td>2016-10-28 17:00:00</td>\n",
       "      <td>2016-10-28 17:00:00</td>\n",
       "      <td>2016-10-28 17:00:00</td>\n",
       "      <td>2016-10-28 17:00:00</td>\n",
       "    </tr>\n",
       "    <tr>\n",
       "      <th>data_source</th>\n",
       "      <td>anaconda</td>\n",
       "      <td>anaconda</td>\n",
       "      <td>anaconda</td>\n",
       "      <td>anaconda</td>\n",
       "      <td>anaconda</td>\n",
       "    </tr>\n",
       "    <tr>\n",
       "      <th>pkg_name</th>\n",
       "      <td>anaconda-client</td>\n",
       "      <td>appscript</td>\n",
       "      <td>appscript</td>\n",
       "      <td>bzip2</td>\n",
       "      <td>bzip2</td>\n",
       "    </tr>\n",
       "    <tr>\n",
       "      <th>pkg_version</th>\n",
       "      <td>1.5.3</td>\n",
       "      <td>1.0.1</td>\n",
       "      <td>1.0.1</td>\n",
       "      <td>1.0.6</td>\n",
       "      <td>1.0.6</td>\n",
       "    </tr>\n",
       "    <tr>\n",
       "      <th>pkg_platform</th>\n",
       "      <td>linux-64</td>\n",
       "      <td>osx-64</td>\n",
       "      <td>osx-64</td>\n",
       "      <td>linux-64</td>\n",
       "      <td>linux-64</td>\n",
       "    </tr>\n",
       "    <tr>\n",
       "      <th>pkg_python</th>\n",
       "      <td>3.5</td>\n",
       "      <td>2.7</td>\n",
       "      <td>2.7</td>\n",
       "      <td></td>\n",
       "      <td></td>\n",
       "    </tr>\n",
       "    <tr>\n",
       "      <th>bytes</th>\n",
       "      <td>119691</td>\n",
       "      <td>125038</td>\n",
       "      <td>125039</td>\n",
       "      <td>85291</td>\n",
       "      <td>85292</td>\n",
       "    </tr>\n",
       "    <tr>\n",
       "      <th>day_name</th>\n",
       "      <td>Friday</td>\n",
       "      <td>Friday</td>\n",
       "      <td>Friday</td>\n",
       "      <td>Friday</td>\n",
       "      <td>Friday</td>\n",
       "    </tr>\n",
       "    <tr>\n",
       "      <th>hour</th>\n",
       "      <td>17</td>\n",
       "      <td>17</td>\n",
       "      <td>17</td>\n",
       "      <td>17</td>\n",
       "      <td>17</td>\n",
       "    </tr>\n",
       "    <tr>\n",
       "      <th>counts</th>\n",
       "      <td>1</td>\n",
       "      <td>3</td>\n",
       "      <td>2</td>\n",
       "      <td>4</td>\n",
       "      <td>1</td>\n",
       "    </tr>\n",
       "  </tbody>\n",
       "</table>\n",
       "</div>"
      ],
      "text/plain": [
       "                                0                    1                    2  \\\n",
       "time          2016-10-28 17:00:00  2016-10-28 17:00:00  2016-10-28 17:00:00   \n",
       "data_source              anaconda             anaconda             anaconda   \n",
       "pkg_name          anaconda-client            appscript            appscript   \n",
       "pkg_version                 1.5.3                1.0.1                1.0.1   \n",
       "pkg_platform             linux-64               osx-64               osx-64   \n",
       "pkg_python                    3.5                  2.7                  2.7   \n",
       "bytes                      119691               125038               125039   \n",
       "day_name                   Friday               Friday               Friday   \n",
       "hour                           17                   17                   17   \n",
       "counts                          1                    3                    2   \n",
       "\n",
       "                                3                    4  \n",
       "time          2016-10-28 17:00:00  2016-10-28 17:00:00  \n",
       "data_source              anaconda             anaconda  \n",
       "pkg_name                    bzip2                bzip2  \n",
       "pkg_version                 1.0.6                1.0.6  \n",
       "pkg_platform             linux-64             linux-64  \n",
       "pkg_python                                              \n",
       "bytes                       85291                85292  \n",
       "day_name                   Friday               Friday  \n",
       "hour                           17                   17  \n",
       "counts                          4                    1  "
      ]
     },
     "execution_count": 27,
     "metadata": {},
     "output_type": "execute_result"
    }
   ],
   "source": [
    "cdf.head().to_pandas().T"
   ]
  },
  {
   "cell_type": "code",
   "execution_count": 4,
   "metadata": {},
   "outputs": [],
   "source": [
    "pd.read_parquet(input_file, engine='fastparquet').to_parquet(output_file, engine='pyarrow')"
   ]
  },
  {
   "cell_type": "code",
   "execution_count": 6,
   "metadata": {},
   "outputs": [],
   "source": [
    "for col in ['data_source', 'pkg_name', 'pkg_version','pkg_platform','pkg_python']:\n",
    "    df[col]=df[col].astype('category')\n"
   ]
  },
  {
   "cell_type": "code",
   "execution_count": 7,
   "metadata": {},
   "outputs": [
    {
     "data": {
      "text/plain": [
       "time            datetime64[ns]\n",
       "data_source           category\n",
       "pkg_name              category\n",
       "pkg_version           category\n",
       "pkg_platform          category\n",
       "pkg_python            category\n",
       "counts                   int64\n",
       "dtype: object"
      ]
     },
     "execution_count": 7,
     "metadata": {},
     "output_type": "execute_result"
    }
   ],
   "source": [
    "df.dtypes"
   ]
  },
  {
   "cell_type": "code",
   "execution_count": 37,
   "metadata": {},
   "outputs": [],
   "source": [
    "import cudf"
   ]
  },
  {
   "cell_type": "code",
   "execution_count": 57,
   "metadata": {},
   "outputs": [
    {
     "data": {
      "text/plain": [
       "'2019-01-01-pyarrow.parquet.SNAPPY'"
      ]
     },
     "execution_count": 57,
     "metadata": {},
     "output_type": "execute_result"
    }
   ],
   "source": [
    "engine = 'pyarrow'\n",
    "written_by_pyarrow = f'{date}-{engine}.parquet.SNAPPY'\n",
    "df.to_parquet(written_by_pyarrow, compression=\"SNAPPY\", engine=engine)\n",
    "written_by_pyarrow"
   ]
  },
  {
   "cell_type": "code",
   "execution_count": 58,
   "metadata": {},
   "outputs": [
    {
     "data": {
      "text/plain": [
       "'2019-01-01-fastparquet.parquet.SNAPPY'"
      ]
     },
     "execution_count": 58,
     "metadata": {},
     "output_type": "execute_result"
    }
   ],
   "source": [
    "engine = 'fastparquet'\n",
    "written_by_fastparquet = f'{date}-{engine}.parquet.SNAPPY'\n",
    "df.to_parquet(written_by_fastparquet, compression=\"SNAPPY\", engine=engine)\n",
    "written_by_fastparquet"
   ]
  },
  {
   "cell_type": "code",
   "execution_count": 68,
   "metadata": {},
   "outputs": [
    {
     "data": {
      "text/plain": [
       "'2019-01-01-cudf.parquet.SNAPPY'"
      ]
     },
     "execution_count": 68,
     "metadata": {},
     "output_type": "execute_result"
    }
   ],
   "source": [
    "engine = 'cudf'\n",
    "written_by_cudf = f'{date}-{engine}.parquet.SNAPPY'\n",
    "cudf.from_pandas(df).to_parquet(written_by_cudf, compression=\"SNAPPY\")\n",
    "written_by_cudf"
   ]
  },
  {
   "cell_type": "code",
   "execution_count": 51,
   "metadata": {},
   "outputs": [],
   "source": [
    "import itertools"
   ]
  },
  {
   "cell_type": "code",
   "execution_count": null,
   "metadata": {},
   "outputs": [],
   "source": [
    "funcs = [pd.read_parquet, cudf.read_parquet]\n",
    "engines = ['pyarrow', 'cudf', 'fastparquet']\n",
    "for func, engine in itertools.product()"
   ]
  },
  {
   "cell_type": "code",
   "execution_count": 43,
   "metadata": {},
   "outputs": [
    {
     "data": {
      "text/plain": [
       "time            datetime64[ns]\n",
       "data_source             object\n",
       "pkg_name                object\n",
       "pkg_version             object\n",
       "pkg_platform            object\n",
       "pkg_python              object\n",
       "counts                   int64\n",
       "dtype: object"
      ]
     },
     "execution_count": 43,
     "metadata": {},
     "output_type": "execute_result"
    }
   ],
   "source": [
    "pd.read_parquet(written_by_pyarrow, engine='pyarrow').dtypes"
   ]
  },
  {
   "cell_type": "code",
   "execution_count": 45,
   "metadata": {},
   "outputs": [
    {
     "data": {
      "text/plain": [
       "time            datetime64[ns]\n",
       "data_source           category\n",
       "pkg_name              category\n",
       "pkg_version           category\n",
       "pkg_platform          category\n",
       "pkg_python            category\n",
       "counts                   int64\n",
       "dtype: object"
      ]
     },
     "execution_count": 45,
     "metadata": {},
     "output_type": "execute_result"
    }
   ],
   "source": [
    "pd.read_parquet(written_by_pyarrow, engine='fastparquet').dtypes"
   ]
  },
  {
   "cell_type": "code",
   "execution_count": 46,
   "metadata": {},
   "outputs": [
    {
     "ename": "TypeError",
     "evalue": "expected bytes, dict found",
     "output_type": "error",
     "traceback": [
      "\u001b[0;31m---------------------------------------------------------------------------\u001b[0m",
      "\u001b[0;31mTypeError\u001b[0m                                 Traceback (most recent call last)",
      "\u001b[0;32m<ipython-input-46-f84f7acb26c6>\u001b[0m in \u001b[0;36m<module>\u001b[0;34m\u001b[0m\n\u001b[0;32m----> 1\u001b[0;31m \u001b[0mpd\u001b[0m\u001b[0;34m.\u001b[0m\u001b[0mread_parquet\u001b[0m\u001b[0;34m(\u001b[0m\u001b[0mwritten_by_fastparquet\u001b[0m\u001b[0;34m,\u001b[0m \u001b[0mengine\u001b[0m\u001b[0;34m=\u001b[0m\u001b[0;34m'pyarrow'\u001b[0m\u001b[0;34m)\u001b[0m\u001b[0;34m.\u001b[0m\u001b[0mdtypes\u001b[0m\u001b[0;34m\u001b[0m\u001b[0;34m\u001b[0m\u001b[0m\n\u001b[0m",
      "\u001b[0;32m~/miniconda/envs/dask/lib/python3.7/site-packages/pandas/io/parquet.py\u001b[0m in \u001b[0;36mread_parquet\u001b[0;34m(path, engine, columns, **kwargs)\u001b[0m\n\u001b[1;32m    294\u001b[0m \u001b[0;34m\u001b[0m\u001b[0m\n\u001b[1;32m    295\u001b[0m     \u001b[0mimpl\u001b[0m \u001b[0;34m=\u001b[0m \u001b[0mget_engine\u001b[0m\u001b[0;34m(\u001b[0m\u001b[0mengine\u001b[0m\u001b[0;34m)\u001b[0m\u001b[0;34m\u001b[0m\u001b[0;34m\u001b[0m\u001b[0m\n\u001b[0;32m--> 296\u001b[0;31m     \u001b[0;32mreturn\u001b[0m \u001b[0mimpl\u001b[0m\u001b[0;34m.\u001b[0m\u001b[0mread\u001b[0m\u001b[0;34m(\u001b[0m\u001b[0mpath\u001b[0m\u001b[0;34m,\u001b[0m \u001b[0mcolumns\u001b[0m\u001b[0;34m=\u001b[0m\u001b[0mcolumns\u001b[0m\u001b[0;34m,\u001b[0m \u001b[0;34m**\u001b[0m\u001b[0mkwargs\u001b[0m\u001b[0;34m)\u001b[0m\u001b[0;34m\u001b[0m\u001b[0;34m\u001b[0m\u001b[0m\n\u001b[0m",
      "\u001b[0;32m~/miniconda/envs/dask/lib/python3.7/site-packages/pandas/io/parquet.py\u001b[0m in \u001b[0;36mread\u001b[0;34m(self, path, columns, **kwargs)\u001b[0m\n\u001b[1;32m    123\u001b[0m         \u001b[0mkwargs\u001b[0m\u001b[0;34m[\u001b[0m\u001b[0;34m\"use_pandas_metadata\"\u001b[0m\u001b[0;34m]\u001b[0m \u001b[0;34m=\u001b[0m \u001b[0;32mTrue\u001b[0m\u001b[0;34m\u001b[0m\u001b[0;34m\u001b[0m\u001b[0m\n\u001b[1;32m    124\u001b[0m         result = self.api.parquet.read_table(\n\u001b[0;32m--> 125\u001b[0;31m             \u001b[0mpath\u001b[0m\u001b[0;34m,\u001b[0m \u001b[0mcolumns\u001b[0m\u001b[0;34m=\u001b[0m\u001b[0mcolumns\u001b[0m\u001b[0;34m,\u001b[0m \u001b[0;34m**\u001b[0m\u001b[0mkwargs\u001b[0m\u001b[0;34m\u001b[0m\u001b[0;34m\u001b[0m\u001b[0m\n\u001b[0m\u001b[1;32m    126\u001b[0m         ).to_pandas()\n\u001b[1;32m    127\u001b[0m         \u001b[0;32mif\u001b[0m \u001b[0mshould_close\u001b[0m\u001b[0;34m:\u001b[0m\u001b[0;34m\u001b[0m\u001b[0;34m\u001b[0m\u001b[0m\n",
      "\u001b[0;32m~/miniconda/envs/dask/lib/python3.7/site-packages/pyarrow/array.pxi\u001b[0m in \u001b[0;36mpyarrow.lib._PandasConvertible.to_pandas\u001b[0;34m()\u001b[0m\n",
      "\u001b[0;32m~/miniconda/envs/dask/lib/python3.7/site-packages/pyarrow/table.pxi\u001b[0m in \u001b[0;36mpyarrow.lib.Table._to_pandas\u001b[0;34m()\u001b[0m\n",
      "\u001b[0;32m~/miniconda/envs/dask/lib/python3.7/site-packages/pyarrow/pandas_compat.py\u001b[0m in \u001b[0;36mtable_to_blockmanager\u001b[0;34m(options, table, categories, ignore_metadata)\u001b[0m\n\u001b[1;32m    642\u001b[0m         \u001b[0mcolumn_indexes\u001b[0m \u001b[0;34m=\u001b[0m \u001b[0mpandas_metadata\u001b[0m\u001b[0;34m.\u001b[0m\u001b[0mget\u001b[0m\u001b[0;34m(\u001b[0m\u001b[0;34m'column_indexes'\u001b[0m\u001b[0;34m,\u001b[0m \u001b[0;34m[\u001b[0m\u001b[0;34m]\u001b[0m\u001b[0;34m)\u001b[0m\u001b[0;34m\u001b[0m\u001b[0;34m\u001b[0m\u001b[0m\n\u001b[1;32m    643\u001b[0m         \u001b[0mindex_descriptors\u001b[0m \u001b[0;34m=\u001b[0m \u001b[0mpandas_metadata\u001b[0m\u001b[0;34m[\u001b[0m\u001b[0;34m'index_columns'\u001b[0m\u001b[0;34m]\u001b[0m\u001b[0;34m\u001b[0m\u001b[0;34m\u001b[0m\u001b[0m\n\u001b[0;32m--> 644\u001b[0;31m         \u001b[0mtable\u001b[0m \u001b[0;34m=\u001b[0m \u001b[0m_add_any_metadata\u001b[0m\u001b[0;34m(\u001b[0m\u001b[0mtable\u001b[0m\u001b[0;34m,\u001b[0m \u001b[0mpandas_metadata\u001b[0m\u001b[0;34m)\u001b[0m\u001b[0;34m\u001b[0m\u001b[0;34m\u001b[0m\u001b[0m\n\u001b[0m\u001b[1;32m    645\u001b[0m         table, index = _reconstruct_index(table, index_descriptors,\n\u001b[1;32m    646\u001b[0m                                           all_columns)\n",
      "\u001b[0;32m~/miniconda/envs/dask/lib/python3.7/site-packages/pyarrow/pandas_compat.py\u001b[0m in \u001b[0;36m_add_any_metadata\u001b[0;34m(table, pandas_metadata)\u001b[0m\n\u001b[1;32m    965\u001b[0m                 \u001b[0mraw_name\u001b[0m \u001b[0;34m=\u001b[0m \u001b[0;34m'None'\u001b[0m\u001b[0;34m\u001b[0m\u001b[0;34m\u001b[0m\u001b[0m\n\u001b[1;32m    966\u001b[0m \u001b[0;34m\u001b[0m\u001b[0m\n\u001b[0;32m--> 967\u001b[0;31m         \u001b[0midx\u001b[0m \u001b[0;34m=\u001b[0m \u001b[0mschema\u001b[0m\u001b[0;34m.\u001b[0m\u001b[0mget_field_index\u001b[0m\u001b[0;34m(\u001b[0m\u001b[0mraw_name\u001b[0m\u001b[0;34m)\u001b[0m\u001b[0;34m\u001b[0m\u001b[0;34m\u001b[0m\u001b[0m\n\u001b[0m\u001b[1;32m    968\u001b[0m         \u001b[0;32mif\u001b[0m \u001b[0midx\u001b[0m \u001b[0;34m!=\u001b[0m \u001b[0;34m-\u001b[0m\u001b[0;36m1\u001b[0m\u001b[0;34m:\u001b[0m\u001b[0;34m\u001b[0m\u001b[0;34m\u001b[0m\u001b[0m\n\u001b[1;32m    969\u001b[0m             \u001b[0;32mif\u001b[0m \u001b[0mcol_meta\u001b[0m\u001b[0;34m[\u001b[0m\u001b[0;34m'pandas_type'\u001b[0m\u001b[0;34m]\u001b[0m \u001b[0;34m==\u001b[0m \u001b[0;34m'datetimetz'\u001b[0m\u001b[0;34m:\u001b[0m\u001b[0;34m\u001b[0m\u001b[0;34m\u001b[0m\u001b[0m\n",
      "\u001b[0;32m~/miniconda/envs/dask/lib/python3.7/site-packages/pyarrow/types.pxi\u001b[0m in \u001b[0;36mpyarrow.lib.Schema.get_field_index\u001b[0;34m()\u001b[0m\n",
      "\u001b[0;32m~/miniconda/envs/dask/lib/python3.7/site-packages/pyarrow/lib.cpython-37m-x86_64-linux-gnu.so\u001b[0m in \u001b[0;36mstring.from_py.__pyx_convert_string_from_py_std__in_string\u001b[0;34m()\u001b[0m\n",
      "\u001b[0;31mTypeError\u001b[0m: expected bytes, dict found"
     ]
    }
   ],
   "source": [
    "pd.read_parquet(written_by_fastparquet, engine='pyarrow').dtypes"
   ]
  },
  {
   "cell_type": "code",
   "execution_count": 48,
   "metadata": {},
   "outputs": [
    {
     "data": {
      "text/plain": [
       "time            datetime64[ns]\n",
       "data_source           category\n",
       "pkg_name              category\n",
       "pkg_version           category\n",
       "pkg_platform          category\n",
       "pkg_python            category\n",
       "counts                   int64\n",
       "dtype: object"
      ]
     },
     "execution_count": 48,
     "metadata": {},
     "output_type": "execute_result"
    }
   ],
   "source": [
    "pd.read_parquet(written_by_fastparquet, engine='fastparquet').dtypes"
   ]
  },
  {
   "cell_type": "code",
   "execution_count": null,
   "metadata": {},
   "outputs": [],
   "source": []
  }
 ],
 "metadata": {
  "kernelspec": {
   "display_name": "Rapids Nightly [py37]",
   "language": "python",
   "name": "rapids-nightly"
  },
  "language_info": {
   "codemirror_mode": {
    "name": "ipython",
    "version": 3
   },
   "file_extension": ".py",
   "mimetype": "text/x-python",
   "name": "python",
   "nbconvert_exporter": "python",
   "pygments_lexer": "ipython3",
   "version": "3.7.3"
  }
 },
 "nbformat": 4,
 "nbformat_minor": 2
}
